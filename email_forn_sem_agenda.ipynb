{
 "cells": [
  {
   "cell_type": "code",
   "execution_count": 87,
   "id": "9e8098a8-b4cd-4234-a761-cdfdb5398937",
   "metadata": {
    "tags": []
   },
   "outputs": [],
   "source": [
    "# Bibliotecas utilizadas no projeto\n",
    "import win32com.client as win32\n",
    "import pandas as pd\n",
    "from datetime import datetime"
   ]
  },
  {
   "cell_type": "code",
   "execution_count": 97,
   "id": "6145fd71-9183-4252-b755-fddaa2e8072e",
   "metadata": {
    "tags": []
   },
   "outputs": [],
   "source": [
    "# Base da carteira de pedidos\n",
    "base = pd.read_excel(\"planilhas/BASE_DASHBOARD.xlsx\")"
   ]
  },
  {
   "cell_type": "code",
   "execution_count": 89,
   "id": "eb6e0cc4-cf0c-438b-80e7-de7fc2a71a84",
   "metadata": {
    "tags": []
   },
   "outputs": [],
   "source": [
    "data_atual = datetime.now()"
   ]
  },
  {
   "cell_type": "code",
   "execution_count": 90,
   "id": "ea8ec2c4-07a6-45a9-9d75-f64e06acd353",
   "metadata": {
    "tags": []
   },
   "outputs": [],
   "source": [
    "base_dashboard = base[base['DT_ENTREGA'] >= data_atual]"
   ]
  },
  {
   "cell_type": "code",
   "execution_count": 91,
   "id": "90622af6-581a-42b2-ace6-f0d3e1479727",
   "metadata": {
    "tags": []
   },
   "outputs": [],
   "source": [
    "# Base da planilha de e-mails_forn\n",
    "emails_forn = pd.read_excel(\"planilhas/emails_forn.xlsx\")"
   ]
  },
  {
   "cell_type": "code",
   "execution_count": 92,
   "id": "4fb3358f-50bf-463c-ac71-7fa591de4d90",
   "metadata": {
    "tags": []
   },
   "outputs": [],
   "source": [
    "# Base da planilha de e-mails_amigao\n",
    "emails_amigao = pd.read_excel(\"planilhas/emails_amigao.xlsx\")"
   ]
  },
  {
   "cell_type": "code",
   "execution_count": 93,
   "id": "4d1fc21b-e83a-4975-80f4-55dfe0ced4a2",
   "metadata": {
    "tags": []
   },
   "outputs": [],
   "source": [
    "# Filtrar fornecedores sem agendamento\n",
    "fornecedores_sem_agendamento = base_dashboard[base_dashboard['DT_AGENDA'].str.startswith('SEM')]"
   ]
  },
  {
   "cell_type": "code",
   "execution_count": 94,
   "id": "87e8cca7-bf26-48d3-b384-2292e14d975a",
   "metadata": {
    "tags": []
   },
   "outputs": [],
   "source": [
    "# Filtrar fornecedores com base nas novas regras\n",
    "fornecedores_validos = base_dashboard[(base_dashboard['Classificacao do pedido'] == 'Original') & \n",
    "                            (base_dashboard['LOCAL_ENT'] == 'CD')]"
   ]
  },
  {
   "cell_type": "code",
   "execution_count": 95,
   "id": "e8d12d75-b128-44b8-9d92-6335efa37549",
   "metadata": {
    "tags": []
   },
   "outputs": [
    {
     "name": "stdout",
     "output_type": "stream",
     "text": [
      "Departamento não corresponde para Froneri Brasil Distribuidora De Sorv **vera Cruz** (Keze Fabiana Bezerra)\n",
      "E-mails enviados com sucesso: 6\n",
      "E-mails não enviados, adicione o email na base 'emails-forn': 1\n"
     ]
    }
   ],
   "source": [
    "if not fornecedores_sem_agendamento.empty:\n",
    "    outlook = win32.Dispatch('Outlook.Application')  # Inicializa o Outlook\n",
    "\n",
    "    # Dicionário para armazenar os pedidos por fornecedor e usuário\n",
    "    pedidos_por_fornecedor_usuario = {}\n",
    "\n",
    "    # Contadores para os e-mails enviados e não enviados\n",
    "    emails_enviados = 0\n",
    "    emails_nao_enviados = 0\n",
    "\n",
    "    # Esse laço de repetição navega pelos fornecedores sem agendamento e agrupa os pedidos\n",
    "    for index, row in fornecedores_sem_agendamento.iterrows():\n",
    "        nome_fornecedor = row['DESC_FORN']\n",
    "        dep = row['DEP']\n",
    "        pedido = row['PEDIDO']\n",
    "        usuario = row['NOME USUARIO']\n",
    "\n",
    "        chave = (nome_fornecedor, usuario)\n",
    "\n",
    "        if chave not in pedidos_por_fornecedor_usuario:\n",
    "            pedidos_por_fornecedor_usuario[chave] = set()\n",
    "\n",
    "        # Adiciona o pedido no dicionário, para evitar repetições\n",
    "        pedidos_por_fornecedor_usuario[chave].add(pedido)\n",
    "\n",
    "    # Esse laço de repetição navega sobre os fornecedores e usuários e envia os e-mails\n",
    "    for (nome_fornecedor, usuario), pedidos in pedidos_por_fornecedor_usuario.items():\n",
    "        # Encontrar informações de e-mails_forn com base no nome_fornecedor\n",
    "        email_match = emails_forn.loc[emails_forn['nome_fornecedor'] == nome_fornecedor, ['email', 'email_forn_cc']]\n",
    "\n",
    "        if not email_match.empty:\n",
    "            email_fornecedor = email_match['email'].values[0]\n",
    "            cc_fornecedores = email_match['email_forn_cc'].values[0]\n",
    "\n",
    "            mail = outlook.CreateItem(0)\n",
    "            mail.Subject = 'URGENTE – PEDIDO SEM AGENDAMENTO NO PORTAL'  # Assunto do email\n",
    "            mail.To = email_fornecedor\n",
    "\n",
    "            # Adiciona cópia em CC se houver informações\n",
    "            if cc_fornecedores:\n",
    "                mail.CC = cc_fornecedores\n",
    "\n",
    "            # Adiciona as descrições adicionais no corpo do e-mail\n",
    "            data_emissao = pd.to_datetime(base.loc[base['DESC_FORN'] == nome_fornecedor, 'DT_EMISSAO'].values[0])\n",
    "\n",
    "            email_body = f\"Prezado Fornecedor: \\n\\nIdentificamos em nosso sistema o(s) pedido(s) de compra pendente(s) de agendamento com elevado nível de ruptura em nossas unidades e CD’s.\\n\\n\"\n",
    "            email_body += f\"FORNECEDOR: {nome_fornecedor}\\n\"\n",
    "            email_body += f\"COD_FORN: {base.loc[base['DESC_FORN'] == nome_fornecedor, 'COD_FORN'].values[0]}\\n\"\n",
    "\n",
    "            # Add os pedidos sem duplicar no corpo do e-mail\n",
    "            email_body += \"\\nPEDIDOS:\\n\"\n",
    "            for pedido in pedidos:\n",
    "                # Encontrar o LEAD TIME correspondente a cada pedido\n",
    "                lead_time_pedido = base.loc[base['PEDIDO'] == pedido, 'DT_ENTREGA'].values[0] # base['DT_EMISSAO'] >= data_atual)\n",
    "                emissao_pedido = base.loc[base['PEDIDO'] == pedido, 'DT_EMISSAO'].values[0]\n",
    "                email_body += f\"- {pedido} / LEAD TIME: {pd.to_datetime(lead_time_pedido).strftime('%d-%m-%Y')} / DATA DE EMISSÃO: {pd.to_datetime(lead_time_pedido).strftime('%d-%m-%Y')}\\n\"\n",
    "\n",
    "            # Adiciona as demais descrições no corpo do e-mail\n",
    "            email_body += f\"\\nDEPARTAMENTO: {base.loc[base['DESC_FORN'] == nome_fornecedor, 'DEP'].values[0]}\\n\"\n",
    "            email_body += f\"COMPRADOR: {usuario}\\n\"\n",
    "\n",
    "            email_body += \"\\nGentileza agendar na data mais próxima disponível para mitigarmos a ruptura atual. Qualquer dificuldade sinalizar através do e-mail: agendamento@grupoamigao.com\\n\\n\"\n",
    "            email_body += \"Caso o pedido já esteja agendado desconsiderar.\\n\\n\"\n",
    "            email_body += \"No aguardo.\\n\"\n",
    "\n",
    "            # Verifica se o \"DEP\" na base é igual ao \"depto\" da emails_amigao\n",
    "            departamento_match = emails_amigao.loc[emails_amigao['depto'] == dep, 'depto'].values\n",
    "\n",
    "            if len(departamento_match) > 0 and base.loc[base['DESC_FORN'] == nome_fornecedor, 'DEP'].values[0] == departamento_match[0]:\n",
    "               \n",
    "                email_usuario_match = emails_amigao.loc[emails_amigao['depto'] == dep, 'email-usuario'].values\n",
    "\n",
    "                # Adiciona cópia em CC se houver informações\n",
    "                if len(email_usuario_match) > 0:\n",
    "                    if mail.CC:\n",
    "                        mail.CC += ';' + email_usuario_match[0]\n",
    "                    else:\n",
    "                        mail.CC = email_usuario_match[0]\n",
    "\n",
    "                # corpo do email recebe os valores armazenado em email_body\n",
    "                mail.Body = email_body\n",
    "                \n",
    "                # envio de e-mail com tratamento de erro\n",
    "                try:\n",
    "                    mail.Send() # envio\n",
    "                    emails_enviados += 1 # contagem para emails enviados\n",
    "                except Exception as e:\n",
    "                    print(f\"Erro ao enviar e-mail para {nome_fornecedor} ({usuario}): {e}\")\n",
    "                    emails_nao_enviados += 1 # contagem para emails não enviados\n",
    "            else:\n",
    "                print(f\"Departamento não corresponde para {nome_fornecedor} ({usuario})\")\n",
    "                emails_nao_enviados += 1\n",
    "        else:\n",
    "            print(f\"Informações de e-mail não encontradas para {nome_fornecedor} ({usuario})\")\n",
    "            emails_nao_enviados += 1\n",
    "\n",
    "    print(f\"E-mails enviados com sucesso: {emails_enviados}\")\n",
    "    print(f\"E-mails não enviados, fornecedores fora da regra: {emails_nao_enviados}\")"
   ]
  }
 ],
 "metadata": {
  "kernelspec": {
   "display_name": "Python 3 (ipykernel)",
   "language": "python",
   "name": "python3"
  },
  "language_info": {
   "codemirror_mode": {
    "name": "ipython",
    "version": 3
   },
   "file_extension": ".py",
   "mimetype": "text/x-python",
   "name": "python",
   "nbconvert_exporter": "python",
   "pygments_lexer": "ipython3",
   "version": "3.11.5"
  }
 },
 "nbformat": 4,
 "nbformat_minor": 5
}
